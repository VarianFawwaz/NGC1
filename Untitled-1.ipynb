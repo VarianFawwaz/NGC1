{
 "cells": [
  {
   "cell_type": "code",
   "execution_count": null,
   "metadata": {},
   "outputs": [],
   "source": [
    "#string\n",
    "\n",
    "\"hello\n",
    "\""
   ]
  },
  {
   "cell_type": "code",
   "execution_count": null,
   "metadata": {},
   "outputs": [],
   "source": [
    "#numeric\n",
    "1234\n",
    "1, 2, 3, 4,"
   ]
  },
  {
   "cell_type": "code",
   "execution_count": null,
   "metadata": {},
   "outputs": [],
   "source": [
    "#sequence (collection)\n",
    "\n",
    "#list -> square bracket [] angka bisa di ubah2 & angka boleh sama\n",
    "[1,2,3,4,5]\n",
    "['a','b','c']\n",
    "\n",
    "# tuple -> () angka tidak bisa di ubah harus buat baru &angka boleh sama\n",
    "(1,2,3,4,5)\n",
    "\n",
    "#range -> fitur bawaan python\n",
    "range () # untuk mengenerate kumpulang angka\n",
    "\n",
    "# 1 - 10"
   ]
  },
  {
   "cell_type": "code",
   "execution_count": 2,
   "metadata": {},
   "outputs": [
    {
     "data": {
      "text/plain": [
       "4"
      ]
     },
     "execution_count": 2,
     "metadata": {},
     "output_type": "execute_result"
    }
   ],
   "source": [
    "# contoh list\n",
    "\n",
    "listAngka = [1, 2, 3, 4, 5]\n",
    "listAngka = [1, 2, 3, 4, 5]\n",
    "listAngka[3]"
   ]
  },
  {
   "cell_type": "code",
   "execution_count": 7,
   "metadata": {},
   "outputs": [
    {
     "data": {
      "text/plain": [
       "5"
      ]
     },
     "execution_count": 7,
     "metadata": {},
     "output_type": "execute_result"
    }
   ],
   "source": [
    "#contoh set\n",
    "\n",
    "setAngka = {1,2,3,4,5}\n",
    "#setAngka \n",
    "\n",
    "# len () -> fitur untuk melihat berapa banyak data di list, tuple, set\n",
    "len(setAngka)"
   ]
  },
  {
   "cell_type": "code",
   "execution_count": 2,
   "metadata": {},
   "outputs": [
    {
     "name": "stdout",
     "output_type": "stream",
     "text": [
      "asd\n",
      "1234124124435354\n"
     ]
    }
   ],
   "source": [
    "#contoh integer\n",
    "\n",
    "#print() -> menampilkan data\n",
    "print(\"asd\")\n",
    "\n",
    "print(1234124124435353 + 1)"
   ]
  },
  {
   "cell_type": "code",
   "execution_count": 6,
   "metadata": {},
   "outputs": [
    {
     "name": "stdout",
     "output_type": "stream",
     "text": [
      "hello\n",
      "300 300 300\n"
     ]
    }
   ],
   "source": [
    "#variable\n",
    "\n",
    "hello123 =\"hello\"\n",
    "print(hello123)\n",
    "\n",
    "a=b=c =300\n",
    "print(a,b,c)"
   ]
  },
  {
   "cell_type": "code",
   "execution_count": 15,
   "metadata": {},
   "outputs": [
    {
     "name": "stdout",
     "output_type": "stream",
     "text": [
      "False\n",
      "True\n"
     ]
    }
   ],
   "source": [
    "#contoh boolean\n",
    "\n",
    "print(123 == 124)\n",
    "print(123  != 1234)"
   ]
  },
  {
   "cell_type": "code",
   "execution_count": 2,
   "metadata": {},
   "outputs": [
    {
     "name": "stdout",
     "output_type": "stream",
     "text": [
      "1\n",
      "30\n"
     ]
    }
   ],
   "source": [
    "#operator\n",
    "\n",
    "# assignment =\n",
    "# aritmathic + - * / **\n",
    "# comparison\n",
    "\n",
    "# contoh modulo (sisa bagi) -> menentukan ganjil/genap\n",
    "print(5 % 2)\n",
    "\n",
    "# contoh pangkat **\n",
    "# expression (operator + value)\n",
    "\n",
    "a=10\n",
    "b=20\n",
    "print(a+b)"
   ]
  },
  {
   "cell_type": "code",
   "execution_count": 16,
   "metadata": {},
   "outputs": [
    {
     "data": {
      "text/plain": [
       "'HALO BRADER'"
      ]
     },
     "execution_count": 16,
     "metadata": {},
     "output_type": "execute_result"
    }
   ],
   "source": [
    "# contoh string manipulasi\n",
    "\n",
    "sentence= \"halo brader\"\n",
    "\n",
    "# .capitalize\n",
    "# sentence.capitalize()\n",
    "\n",
    "#.lower /.upper()\n",
    "#.swapcase()\n",
    "\n",
    "sentence.swapcase()\n",
    "\n"
   ]
  },
  {
   "cell_type": "code",
   "execution_count": 31,
   "metadata": {},
   "outputs": [
    {
     "name": "stdout",
     "output_type": "stream",
     "text": [
      "[1, 2, 3, 404, 5]\n",
      "['one', 'two', 'three', 404, 5]\n"
     ]
    }
   ],
   "source": [
    "#contoh list modify\n",
    "\n",
    "listAngka= [1,2,3,4,5]\n",
    "listAngka[3]= 404\n",
    "print(listAngka)\n",
    "\n",
    "#slicing\n",
    "listAngka[0:3]\n",
    "\n",
    "#slicing for modifying\n",
    "listAngka[0:3]= [\"one\" ,\"two\" , \"three\"]\n",
    "print(listAngka)\n",
    "\n"
   ]
  },
  {
   "cell_type": "code",
   "execution_count": 40,
   "metadata": {},
   "outputs": [
    {
     "name": "stdout",
     "output_type": "stream",
     "text": [
      "{'key1': 'lorem ipsum', 'listAngka': [1, 2, 3]}\n",
      "{'key1': 'lorem ipsum', 'listAngka': [1, 2, 3], 'angka favorit': 99}\n"
     ]
    }
   ],
   "source": [
    "# contoh dictionary\n",
    "\n",
    "abc = {\n",
    "    \"key1\": \"hellow\",\n",
    "    \"listAngka\": [1,2,3]\n",
    "}\n",
    "\n",
    "# acces datta -> key\n",
    "abc[\"listAngka\"]\n",
    "\n",
    "#modify data\n",
    "abc[\"key1\"] = \"lorem ipsum\"\n",
    "print(abc)\n",
    "\n",
    "# add new data\n",
    "abc[\"angka favorit\"] = 99\n",
    "print(abc)"
   ]
  },
  {
   "cell_type": "code",
   "execution_count": 53,
   "metadata": {},
   "outputs": [
    {
     "data": {
      "text/plain": [
       "'hello'"
      ]
     },
     "execution_count": 53,
     "metadata": {},
     "output_type": "execute_result"
    }
   ],
   "source": [
    "#contoh nested dictionary\n",
    "\n",
    "dictA = {\n",
    "    \"air\": \"udara\",\n",
    "    \"collectionNumber\": [2,4,5,10],\n",
    "    \"kamus\": {\n",
    "        \"a\":\"hello\",\n",
    "        \"b\":123,\n",
    "    }\n",
    "}\n",
    "\n",
    "# acces data collectionNumber menggunakan index 3\n",
    "#dictA[\"collectionNumber\"][3]\n",
    "\n",
    "#acces data kamus\n",
    "dictA[\"kamus\"][\"b\"]\n",
    "dictA[\"kamus\"][\"a\"]"
   ]
  }
 ],
 "metadata": {
  "kernelspec": {
   "display_name": "base",
   "language": "python",
   "name": "python3"
  },
  "language_info": {
   "codemirror_mode": {
    "name": "ipython",
    "version": 3
   },
   "file_extension": ".py",
   "mimetype": "text/x-python",
   "name": "python",
   "nbconvert_exporter": "python",
   "pygments_lexer": "ipython3",
   "version": "3.11.5"
  }
 },
 "nbformat": 4,
 "nbformat_minor": 2
}
