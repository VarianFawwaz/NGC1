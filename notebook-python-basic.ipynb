{
 "cells": [
  {
   "cell_type": "markdown",
   "metadata": {},
   "source": [
    "# Python Basic"
   ]
  },
  {
   "cell_type": "markdown",
   "metadata": {},
   "source": [
    "## Tipe data"
   ]
  },
  {
   "cell_type": "code",
   "execution_count": null,
   "metadata": {},
   "outputs": [],
   "source": [
    "# string\n",
    "'' \"\"\n",
    "\"hello\"\n",
    "\n",
    "\"a quick brown fox jumped over lazy dog\"\n",
    "\n",
    "\"lorem ipsum dolor sit amet. lorem ipsum dolor sit amet.\""
   ]
  },
  {
   "cell_type": "code",
   "execution_count": 45,
   "metadata": {},
   "outputs": [
    {
     "data": {
      "text/plain": [
       "'A QUICK BROWN fox JUMPED OVER LAZY DOG'"
      ]
     },
     "execution_count": 45,
     "metadata": {},
     "output_type": "execute_result"
    }
   ],
   "source": [
    "# contoh string manipulation\n",
    "\n",
    "sentence = \"a quick brown FOX jumped over lazy dog\"\n",
    "\n",
    "# .capitalize()\n",
    "# sentence.capitalize()\n",
    "\n",
    "# .lower()/.upper()\n",
    "# sentence.lower()\n",
    "# sentence.upper()\n",
    "\n",
    "# .swapcase()\n",
    "sentence.swapcase()"
   ]
  },
  {
   "cell_type": "code",
   "execution_count": null,
   "metadata": {},
   "outputs": [],
   "source": [
    "# numeric\n",
    "\n",
    "# integer\n",
    "1234\n",
    "\n",
    "# float\n",
    "1.2 2.3"
   ]
  },
  {
   "cell_type": "code",
   "execution_count": 79,
   "metadata": {},
   "outputs": [
    {
     "name": "stdout",
     "output_type": "stream",
     "text": [
      "1256013656612347844051003553550590350\n"
     ]
    }
   ],
   "source": [
    "# contoh integer\n",
    "\n",
    "# print() -> menampilkan data\n",
    "# print(\"adsaf\")\n",
    "\n",
    "print(12312314184721983719387837 + 1232193819381098310893091830918309281 +\n",
    "      23819837218937218973189738912893231 + 1)\n",
    "\n",
    "# print(4/0)"
   ]
  },
  {
   "cell_type": "code",
   "execution_count": 16,
   "metadata": {},
   "outputs": [
    {
     "name": "stdout",
     "output_type": "stream",
     "text": [
      "4.0\n",
      "4000000.0\n"
     ]
    }
   ],
   "source": [
    "# contoh float\n",
    "\n",
    "print(4.)\n",
    "print(.4e7)"
   ]
  },
  {
   "cell_type": "code",
   "execution_count": 2,
   "metadata": {},
   "outputs": [
    {
     "name": "stdout",
     "output_type": "stream",
     "text": [
      "1\n",
      "2\n",
      "3\n",
      "4\n",
      "5\n",
      "6\n",
      "7\n",
      "8\n",
      "9\n",
      "10\n"
     ]
    }
   ],
   "source": [
    "# sequence (collection)\n",
    "\n",
    "# list -> square bracket []\n",
    "[1, 2, 2, 300, 4, 5]\n",
    "['a', 'b', 'c']\n",
    "['a', 1, 'b', 2, 'c', 3]\n",
    "\n",
    "# # tuple -> ()\n",
    "(1, 2, 3, 4, 5)\n",
    "(1, 2, 2, 4, 5)\n",
    "\n",
    "# # range -> fitur bawaan python\n",
    "range() # untuk mengenerate kumpulan angka\n",
    "\n",
    "# 1 - 10\n",
    "# for i in range(1,11):\n",
    "#     print(i)"
   ]
  },
  {
   "cell_type": "code",
   "execution_count": 55,
   "metadata": {},
   "outputs": [
    {
     "name": "stdout",
     "output_type": "stream",
     "text": [
      "[1, 2, 3]\n",
      "[1, 2, 3]\n",
      "['one', 'two', 'three', 404, 'hello']\n"
     ]
    }
   ],
   "source": [
    "# contoh list\n",
    "#  0  1  2  3  4/-1\n",
    "listAngka = [1, 2, 3, 4, 5]\n",
    "# print(listAngka[3]) # melihat data di index ke 3 -> 4\n",
    "\n",
    "# modify data dalam list\n",
    "listAngka[3] = 404\n",
    "# print(listAngka[3])\n",
    "# print(listAngka)\n",
    "\n",
    "# index minus\n",
    "listAngka[-1] = \"hello\"\n",
    "# print(listAngka)\n",
    "\n",
    "# slicing\n",
    "print(listAngka[0:3])\n",
    "print(listAngka[:3])\n",
    "\n",
    "# slicing for modifying\n",
    "listAngka[0:3] = [\"one\", \"two\", \"three\"]\n",
    "print(listAngka)\n",
    "\n",
    "# nested list\n",
    "[1, 2, 3, [\"a\", \"b\", \"c\"]]"
   ]
  },
  {
   "cell_type": "code",
   "execution_count": 62,
   "metadata": {},
   "outputs": [
    {
     "name": "stdout",
     "output_type": "stream",
     "text": [
      "1\n",
      "2\n",
      "3\n"
     ]
    }
   ],
   "source": [
    "# contoh tuple\n",
    "#             0  1  2  3  4\n",
    "tupleAngka = (1, 2, 3, 4, 5)\n",
    "a = tupleAngka[2]\n",
    "b = tupleAngka[3]\n",
    "\n",
    "# packing/unpacking -> syarat: jumlah variable (kiri) == jumlah value/data (kanan)\n",
    "(a, b, c, d) = (1, 2, 3, 4)\n",
    "print(a)\n",
    "print(b)\n",
    "print(c)"
   ]
  },
  {
   "cell_type": "code",
   "execution_count": 8,
   "metadata": {},
   "outputs": [
    {
     "data": {
      "text/plain": [
       "9"
      ]
     },
     "execution_count": 8,
     "metadata": {},
     "output_type": "execute_result"
    }
   ],
   "source": [
    "# contoh set\n",
    "\n",
    "listAngka = [1,2,3,4,5,1,3,3,4]\n",
    "setAngka = {1,2,3,4,5,1,3,3,4}\n",
    "# setAngka\n",
    "\n",
    "# len() -> fitur untuk melihat berapa banyak data di list, tuple, set\n",
    "len(listAngka)\n",
    "# len(setAngka)"
   ]
  },
  {
   "cell_type": "code",
   "execution_count": 28,
   "metadata": {},
   "outputs": [
    {
     "name": "stdout",
     "output_type": "stream",
     "text": [
      "300 300 300\n"
     ]
    }
   ],
   "source": [
    "# variable\n",
    "\n",
    "hello123 = \"hello\"\n",
    "hello_123\n",
    "\n",
    "koleksiAngka = [1, 2, 3, 4, 5]\n",
    "\n",
    "a = b = c = 300\n",
    "# or\n",
    "a = 300\n",
    "b = 300\n",
    "c = 300\n",
    "print(a,b,c)"
   ]
  },
  {
   "cell_type": "code",
   "execution_count": null,
   "metadata": {},
   "outputs": [],
   "source": [
    "# mapping\n",
    "\n",
    "# dictionary\n",
    "# air = \"udara\"\n",
    "\n",
    "{\n",
    "    \"air\": \"udara\",\n",
    "    \"ground\": \"tanah\",\n",
    "    \"number1\": 1,\n",
    "    \"number2\": 2,\n",
    "    \"collectionNumber\": [2, 4, 5, 10],\n",
    "}\n",
    "\n",
    "# nested\n",
    "{\n",
    "    \"air\": \"udara\",\n",
    "    \"collectionNumber\": [2, 4, 5, 10],\n",
    "    \"kamus\": {\n",
    "        \"a\":\"a\",\n",
    "        \"b\":123,\n",
    "    }\n",
    "}"
   ]
  },
  {
   "cell_type": "code",
   "execution_count": 68,
   "metadata": {},
   "outputs": [
    {
     "name": "stdout",
     "output_type": "stream",
     "text": [
      "{'key1': 'lorem ipsum dolor sit amet', 'listAngka': [1, 2, 3]}\n",
      "{'key1': 'lorem ipsum dolor sit amet', 'listAngka': [1, 2, 3], 'angka favorit': 99}\n"
     ]
    }
   ],
   "source": [
    "# contoh dictionary\n",
    "\n",
    "abc = {\n",
    "    \"key1\": \"hellow\",\n",
    "    \"listAngka\": [1, 2, 3]\n",
    "}\n",
    "\n",
    "# access data -> key\n",
    "# abc[\"listAngka\"]\n",
    "\n",
    "# modify data\n",
    "abc[\"key1\"] = \"lorem ipsum dolor sit amet\"\n",
    "# print(abc)\n",
    "\n",
    "# add new data\n",
    "abc[\"angka favorit\"] = 99\n",
    "# print(abc)"
   ]
  },
  {
   "cell_type": "code",
   "execution_count": 77,
   "metadata": {},
   "outputs": [
    {
     "data": {
      "text/plain": [
       "{'air': 'udara',\n",
       " 'collectionNumber': [2, 4, 5, 10],\n",
       " 'kamus': {'a': 'hello', 'b': 9999, 'c': 'new data'}}"
      ]
     },
     "execution_count": 77,
     "metadata": {},
     "output_type": "execute_result"
    }
   ],
   "source": [
    "# contoh nested dictionary\n",
    "\n",
    "dictA = {\n",
    "    \"air\": \"udara\",\n",
    "    \"collectionNumber\": [2, 4, 5, 10],\n",
    "    \"kamus\": {\n",
    "        \"a\": \"hello\",\n",
    "        \"b\": 123,\n",
    "    }\n",
    "}\n",
    "\n",
    "# access data collectionNumber[3] menggunakan index 3\n",
    "# dictA['collectionNumber'][3]\n",
    "\n",
    "# access data kamus\n",
    "dictA['kamus']['b'] = 9999\n",
    "dictA['kamus']['c'] = \"new data\"\n",
    "dictA"
   ]
  },
  {
   "cell_type": "code",
   "execution_count": 2,
   "metadata": {},
   "outputs": [
    {
     "ename": "ZeroDivisionError",
     "evalue": "division by zero",
     "output_type": "error",
     "traceback": [
      "\u001b[1;31m---------------------------------------------------------------------------\u001b[0m",
      "\u001b[1;31mZeroDivisionError\u001b[0m                         Traceback (most recent call last)",
      "Cell \u001b[1;32mIn[2], line 3\u001b[0m\n\u001b[0;32m      1\u001b[0m \u001b[38;5;66;03m# boolean\u001b[39;00m\n\u001b[1;32m----> 3\u001b[0m \u001b[38;5;28;43;01mTrue\u001b[39;49;00m\u001b[38;5;241;43m/\u001b[39;49m\u001b[38;5;28;43;01mFalse\u001b[39;49;00m\n\u001b[0;32m      5\u001b[0m benar \u001b[38;5;241m=\u001b[39m \u001b[38;5;28;01mTrue\u001b[39;00m\n",
      "\u001b[1;31mZeroDivisionError\u001b[0m: division by zero"
     ]
    }
   ],
   "source": [
    "# boolean\n",
    "\n",
    "True/False\n",
    "\n",
    "benar = True"
   ]
  },
  {
   "cell_type": "code",
   "execution_count": 3,
   "metadata": {},
   "outputs": [
    {
     "name": "stdout",
     "output_type": "stream",
     "text": [
      "True\n"
     ]
    }
   ],
   "source": [
    "# contoh boolean\n",
    "\n",
    "print(123 != 124)"
   ]
  },
  {
   "cell_type": "code",
   "execution_count": 1,
   "metadata": {},
   "outputs": [
    {
     "name": "stdout",
     "output_type": "stream",
     "text": [
      "1\n",
      "25\n"
     ]
    }
   ],
   "source": [
    "# operator\n",
    "\n",
    "# assignment =\n",
    "# aritmathic + - * / ** %\n",
    "# comparison == > >= < <= !=\n",
    "\n",
    "# contoh modulo (sisa bagi) -> menentukan ganjil/genap\n",
    "print(5 % 2)\n",
    "\n",
    "# contoh pangkat **\n",
    "print(5 ** 2)\n",
    "\n",
    "# expression (operator + value)\n",
    "# 1 + 1 # -> expression\n",
    "# 1 == 2 # -> expression"
   ]
  },
  {
   "cell_type": "markdown",
   "metadata": {},
   "source": [
    "contoh"
   ]
  }
 ],
 "metadata": {
  "kernelspec": {
   "display_name": "base",
   "language": "python",
   "name": "python3"
  },
  "language_info": {
   "codemirror_mode": {
    "name": "ipython",
    "version": 3
   },
   "file_extension": ".py",
   "mimetype": "text/x-python",
   "name": "python",
   "nbconvert_exporter": "python",
   "pygments_lexer": "ipython3",
   "version": "3.11.5"
  }
 },
 "nbformat": 4,
 "nbformat_minor": 2
}
